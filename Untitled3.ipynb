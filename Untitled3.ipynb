{
 "cells": [
  {
   "cell_type": "code",
   "execution_count": 2,
   "id": "8c0a1e11-045c-4203-a213-ba1fd1e0793b",
   "metadata": {},
   "outputs": [
    {
     "name": "stdout",
     "output_type": "stream",
     "text": [
      "Number: 1, Square: 1\n",
      "Number: 2, Square: 4\n",
      "Number: 3, Square: 9\n",
      "Number: 4, Square: 16\n",
      "Number: 5, Square: 25\n"
     ]
    }
   ],
   "source": [
    "# Define a sequence (list of numbers)\n",
    "numbers = [1, 2, 3, 4, 5]\n",
    "\n",
    "# Use a for loop to iterate over the sequence\n",
    "for number in numbers:\n",
    "    square = number ** 2  # Calculate the square of the number\n",
    "    print(f\"Number: {number}, Square: {square}\")\n"
   ]
  },
  {
   "cell_type": "code",
   "execution_count": 6,
   "id": "458ce4dd-dabb-4fb7-9de6-2a93f796712f",
   "metadata": {},
   "outputs": [
    {
     "name": "stdin",
     "output_type": "stream",
     "text": [
      "Please enter a positive integer for countdown:  10\n"
     ]
    },
    {
     "name": "stdout",
     "output_type": "stream",
     "text": [
      "10\n",
      "9\n",
      "8\n",
      "7\n",
      "6\n",
      "5\n",
      "4\n",
      "3\n",
      "2\n",
      "1\n",
      "0\n"
     ]
    }
   ],
   "source": [
    "# Initialize a variable to control the loop\n",
    "valid_input = False\n",
    "\n",
    "# Loop until a valid number is provided\n",
    "while not valid_input:\n",
    "    user_input = input(\"Please enter a positive integer for countdown: \")\n",
    "    \n",
    "    try:\n",
    "        # Try to convert the input to an integer\n",
    "        number = int(user_input)\n",
    "        if number >= 0:  # Check if the number is non-negative\n",
    "            valid_input = True\n",
    "        else:\n",
    "            print(\"Please enter a positive integer.\")\n",
    "    except ValueError:\n",
    "        print(\"That's not a valid number. Please try again.\")\n",
    "\n",
    "# Countdown from the number to zero\n",
    "while number >= 0:\n",
    "    print(number)\n",
    "    number -= 1  # Decrease the number by 1\n"
   ]
  },
  {
   "cell_type": "code",
   "execution_count": null,
   "id": "0c35ce69-9bc0-47d9-9aa9-db0774c835c9",
   "metadata": {},
   "outputs": [
    {
     "name": "stdout",
     "output_type": "stream",
     "text": [
      "\n",
      "Options:\n",
      "1. Display fruits\n",
      "2. Add a fruit\n",
      "3. Remove a fruit\n",
      "4. Exit\n"
     ]
    },
    {
     "name": "stdin",
     "output_type": "stream",
     "text": [
      "Enter your choice (1-4):  2\n",
      "Enter the name of the fruit to add:  Apple\n"
     ]
    }
   ],
   "source": [
    "# Initialize a list of fruits\n",
    "fruits = [\"apple\", \"banana\", \"cherry\", \"date\"]\n",
    "\n",
    "# Function to display the list of fruits\n",
    "def display_fruits():\n",
    "    print(\"\\nCurrent list of fruits:\")\n",
    "    for fruit in fruits:\n",
    "        print(f\"- {fruit}\")\n",
    "\n",
    "# Main program loop\n",
    "while True:\n",
    "    print(\"\\nOptions:\")\n",
    "    print(\"1. Display fruits\")\n",
    "    print(\"2. Add a fruit\")\n",
    "    print(\"3. Remove a fruit\")\n",
    "    print(\"4. Exit\")\n",
    "\n",
    "    choice = input(\"Enter your choice (1-4): \")\n",
    "\n",
    "    if choice == '1':\n",
    "        display_fruits()\n",
    "    elif choice == '2':\n",
    "        new_fruit = input(\"Enter the name of the fruit to add: \")\n",
    "        fruits.append(new_fruit)\n",
    "        print(f\"{new_fruit} has been added to the list.\")\n",
    "    elif choice == '3':\n",
    "        fruit_to_remove = input(\"Enter the name of the fruit to remove: \")\n",
    "        if fruit_to_remove in fruits:\n",
    "            fruits.remove(fruit_to_remove)\n",
    "            print(f\"{fruit_to_remove} has been removed from the list.\")\n",
    "        else:\n",
    "            print(f\"{fruit_to_remove} is not in the list.\")\n",
    "    elif choice == '4':\n",
    "        print(\"Exiting the program.\")\n",
    "        break\n",
    "    else:\n",
    "        print(\"Invalid choice. Please select a valid option.\")\n"
   ]
  },
  {
   "cell_type": "code",
   "execution_count": null,
   "id": "1c48a787-0ff6-448d-bfe0-8e97a4e40f0a",
   "metadata": {},
   "outputs": [],
   "source": []
  }
 ],
 "metadata": {
  "kernelspec": {
   "display_name": "Python 3 (ipykernel)",
   "language": "python",
   "name": "python3"
  },
  "language_info": {
   "codemirror_mode": {
    "name": "ipython",
    "version": 3
   },
   "file_extension": ".py",
   "mimetype": "text/x-python",
   "name": "python",
   "nbconvert_exporter": "python",
   "pygments_lexer": "ipython3",
   "version": "3.12.7"
  }
 },
 "nbformat": 4,
 "nbformat_minor": 5
}
