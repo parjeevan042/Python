{
 "cells": [
  {
   "cell_type": "code",
   "execution_count": 2,
   "id": "ad63a251-9fd4-4ddc-8dd8-a982bd54c00c",
   "metadata": {},
   "outputs": [
    {
     "name": "stdout",
     "output_type": "stream",
     "text": [
      "1/2 = 0.50\n",
      "1/3 = 0.33\n",
      "1/4 = 0.25\n",
      "1/5 = 0.20\n",
      "1/6 = 0.17\n",
      "1/7 = 0.14\n",
      "1/8 = 0.12\n",
      "1/9 = 0.11\n",
      "1/10 = 0.10\n"
     ]
    }
   ],
   "source": [
    "# Loop from 2 to 10\n",
    "for i in range(2, 11):\n",
    "    decimal_value = 1 / i  # Calculate the decimal equivalent\n",
    "    print(f\"1/{i} = {decimal_value:.2f}\")  # Print with 2 decimal places\n"
   ]
  },
  {
   "cell_type": "code",
   "execution_count": null,
   "id": "8472fe70-f49c-4a5b-a052-7be4dd171fad",
   "metadata": {},
   "outputs": [],
   "source": []
  }
 ],
 "metadata": {
  "kernelspec": {
   "display_name": "Python 3 (ipykernel)",
   "language": "python",
   "name": "python3"
  },
  "language_info": {
   "codemirror_mode": {
    "name": "ipython",
    "version": 3
   },
   "file_extension": ".py",
   "mimetype": "text/x-python",
   "name": "python",
   "nbconvert_exporter": "python",
   "pygments_lexer": "ipython3",
   "version": "3.12.7"
  }
 },
 "nbformat": 4,
 "nbformat_minor": 5
}
